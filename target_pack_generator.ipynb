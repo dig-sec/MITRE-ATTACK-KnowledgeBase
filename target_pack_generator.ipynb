{
 "cells": [
  {
   "cell_type": "markdown",
   "metadata": {},
   "source": [
    "# MITRE ATT&CK Group Analysis\n",
    "\n",
    "This notebook provides an interactive analysis of MITRE ATT&CK groups. It loads the ATT&CK dataset, allows you to select a group, and displays detailed information about the selected group, including techniques used and related analysis and summary files. Additionally, it identifies the most common techniques across all groups and provides general research topics for further exploration."
   ]
  },
  {
   "cell_type": "markdown",
   "metadata": {},
   "source": [
    "## Load dependancies"
   ]
  },
  {
   "cell_type": "code",
   "execution_count": 6,
   "metadata": {},
   "outputs": [],
   "source": [
    "import os\n",
    "import json\n",
    "from collections import Counter\n",
    "from mitreattack.stix20 import MitreAttackData\n",
    "import ipywidgets as widgets\n",
    "from IPython.display import display, Markdown, clear_output"
   ]
  },
  {
   "cell_type": "code",
   "execution_count": 7,
   "metadata": {},
   "outputs": [
    {
     "data": {
      "text/markdown": [
       "## Loading ATT&CK Data"
      ],
      "text/plain": [
       "<IPython.core.display.Markdown object>"
      ]
     },
     "metadata": {},
     "output_type": "display_data"
    },
    {
     "data": {
      "text/markdown": [
       "**Retrieved 159 ATT&CK groups.**"
      ],
      "text/plain": [
       "<IPython.core.display.Markdown object>"
      ]
     },
     "metadata": {},
     "output_type": "display_data"
    }
   ],
   "source": [
    "# --- Load MITRE ATT&CK Data ---\n",
    "display(Markdown(\"## Loading ATT&CK Data\"))\n",
    "\n",
    "dataset_path = \"data/enterprise-attack.json\"\n",
    "\n",
    "if not os.path.exists(dataset_path):\n",
    "    display(Markdown(\"**Error: enterprise-attack.json not found. Please ensure the file is in the 'data' directory.**\"))\n",
    "else:\n",
    "    mitre_attack_data = MitreAttackData(dataset_path)\n",
    "    groups = mitre_attack_data.get_groups(remove_revoked_deprecated=True)\n",
    "    display(Markdown(f\"**Retrieved {len(groups)} ATT&CK groups.**\"))"
   ]
  },
  {
   "cell_type": "markdown",
   "metadata": {},
   "source": [
    "## Select a Group"
   ]
  },
  {
   "cell_type": "code",
   "execution_count": 8,
   "metadata": {},
   "outputs": [
    {
     "data": {
      "application/vnd.jupyter.widget-view+json": {
       "model_id": "e07ce02a43d945778133d974596daddf",
       "version_major": 2,
       "version_minor": 0
      },
      "text/plain": [
       "Dropdown(description='Select Group:', layout=Layout(width='50%'), options=('Indrik Spider', 'LuminousMoth', 'W…"
      ]
     },
     "metadata": {},
     "output_type": "display_data"
    },
    {
     "data": {
      "application/vnd.jupyter.widget-view+json": {
       "model_id": "c9ef7cdc69ca40758756ec4b5e2c1921",
       "version_major": 2,
       "version_minor": 0
      },
      "text/plain": [
       "Output()"
      ]
     },
     "metadata": {},
     "output_type": "display_data"
    }
   ],
   "source": [
    "group_names = [group.name for group in groups]\n",
    "selected_group = widgets.Dropdown(\n",
    "    options=group_names,\n",
    "    description='Select Group:',\n",
    "    layout=widgets.Layout(width='50%')\n",
    ")\n",
    "\n",
    "display(selected_group)\n",
    "\n",
    "output = widgets.Output()\n",
    "display(output)"
   ]
  },
  {
   "cell_type": "markdown",
   "metadata": {},
   "source": [
    "## Display Group Info"
   ]
  },
  {
   "cell_type": "code",
   "execution_count": 9,
   "metadata": {},
   "outputs": [
    {
     "data": {
      "application/vnd.jupyter.widget-view+json": {
       "model_id": "6dcd81eaa79b44d697e0d7e70788b3c6",
       "version_major": 2,
       "version_minor": 0
      },
      "text/plain": [
       "interactive(children=(Dropdown(description='Select Group:', layout=Layout(width='50%'), options=('Indrik Spide…"
      ]
     },
     "execution_count": 9,
     "metadata": {},
     "output_type": "execute_result"
    }
   ],
   "source": [
    "def search_related_data(group_name):\n",
    "    \"\"\"Searches for related analysis and summary files.\"\"\"\n",
    "    with output:\n",
    "        clear_output(wait=False)\n",
    "        display(Markdown(\"## Searching for Related Data\"))\n",
    "\n",
    "        analysis_folder = \"MITRE_ATT&CK_Analysis\"\n",
    "        summary_folder = \"MITRE_ATT&CK_Summaries\"\n",
    "\n",
    "        related_analysis = []\n",
    "        related_summaries = []\n",
    "\n",
    "        group = next((g for g in groups if g.name == group_name), None)\n",
    "        if not group:\n",
    "            display(Markdown(\"**Selected group not found.**\"))\n",
    "            return\n",
    "\n",
    "        techniques_used_by_group = mitre_attack_data.get_techniques_used_by_group(group.id)\n",
    "        mitre_techniques_used_by_group = [\n",
    "            mitre_attack_data.get_attack_id(t[\"object\"].id) for t in techniques_used_by_group if t[\"object\"]\n",
    "        ]\n",
    "\n",
    "        # Search for analysis files\n",
    "        for root, _, files in os.walk(analysis_folder):\n",
    "            for file in files:\n",
    "                if file.endswith(\".json\"):\n",
    "                    file_path = os.path.join(root, file)\n",
    "                    with open(file_path, \"r\", encoding=\"utf-8\") as f:\n",
    "                        data = json.load(f)\n",
    "                        if data.get(\"id\") in mitre_techniques_used_by_group:\n",
    "                            related_analysis.append(file_path)\n",
    "\n",
    "        # Search for summary files\n",
    "        for root, _, files in os.walk(summary_folder):\n",
    "            for file in files:\n",
    "                if file.endswith(\".md\"):\n",
    "                    file_path = os.path.join(root, file)\n",
    "                    for attack_id in mitre_techniques_used_by_group:\n",
    "                        if attack_id in file:\n",
    "                            related_summaries.append(file_path)\n",
    "                            break\n",
    "\n",
    "        display(Markdown(\"### Related Analysis Files\"))\n",
    "        if related_analysis:\n",
    "            display(Markdown(\"\\n\".join([f\"- `{a}`\" for a in related_analysis])))\n",
    "        else:\n",
    "            display(Markdown(\"**No related analysis files found.**\"))\n",
    "\n",
    "        display(Markdown(\"### Related Summary Files\"))\n",
    "        if related_summaries:\n",
    "            display(Markdown(\"\\n\".join([f\"- `{s}`\" for s in related_summaries])))\n",
    "        else:\n",
    "            display(Markdown(\"**No related summary files found.**\"))\n",
    "\n",
    "widgets.interactive(search_related_data, group_name=selected_group)"
   ]
  },
  {
   "cell_type": "markdown",
   "metadata": {},
   "source": [
    "## Generate and Search MITRE Data"
   ]
  },
  {
   "cell_type": "code",
   "execution_count": 10,
   "metadata": {},
   "outputs": [
    {
     "data": {
      "application/vnd.jupyter.widget-view+json": {
       "model_id": "b4913126fed448ac94962d8810a2015a",
       "version_major": 2,
       "version_minor": 0
      },
      "text/plain": [
       "interactive(children=(Dropdown(description='Select Group:', layout=Layout(width='50%'), options=('Indrik Spide…"
      ]
     },
     "execution_count": 10,
     "metadata": {},
     "output_type": "execute_result"
    }
   ],
   "source": [
    "def search_related_data(group_name):\n",
    "    \"\"\"Searches for related analysis and summary files.\"\"\"\n",
    "    with output:\n",
    "        clear_output(wait=False)\n",
    "        display(Markdown(\"## Searching for Related Data\"))\n",
    "\n",
    "        analysis_folder = \"MITRE_ATT&CK_Analysis\"\n",
    "        summary_folder = \"MITRE_ATT&CK_Summaries\"\n",
    "\n",
    "        related_analysis = []\n",
    "        related_summaries = []\n",
    "\n",
    "        group = next((g for g in groups if g.name == group_name), None)\n",
    "        if not group:\n",
    "            display(Markdown(\"**Selected group not found.**\"))\n",
    "            return\n",
    "\n",
    "        techniques_used_by_group = mitre_attack_data.get_techniques_used_by_group(group.id)\n",
    "        mitre_techniques_used_by_group = [\n",
    "            mitre_attack_data.get_attack_id(t[\"object\"].id) for t in techniques_used_by_group if t[\"object\"]\n",
    "        ]\n",
    "\n",
    "        # Search for analysis files\n",
    "        for root, _, files in os.walk(analysis_folder):\n",
    "            for file in files:\n",
    "                if file.endswith(\".json\"):\n",
    "                    file_path = os.path.join(root, file)\n",
    "                    with open(file_path, \"r\", encoding=\"utf-8\") as f:\n",
    "                        data = json.load(f)\n",
    "                        if data.get(\"id\") in mitre_techniques_used_by_group:\n",
    "                            related_analysis.append(file_path)\n",
    "\n",
    "        # Search for summary files\n",
    "        for root, _, files in os.walk(summary_folder):\n",
    "            for file in files:\n",
    "                if file.endswith(\".md\"):\n",
    "                    file_path = os.path.join(root, file)\n",
    "                    for attack_id in mitre_techniques_used_by_group:\n",
    "                        if attack_id in file:\n",
    "                            related_summaries.append(file_path)\n",
    "                            break\n",
    "\n",
    "        display(Markdown(\"### Related Analysis Files\"))\n",
    "        if related_analysis:\n",
    "            display(Markdown(\"\\n\".join([f\"- `{a}`\" for a in related_analysis])))\n",
    "        else:\n",
    "            display(Markdown(\"**No related analysis files found.**\"))\n",
    "\n",
    "        display(Markdown(\"### Related Summary Files\"))\n",
    "        if related_summaries:\n",
    "            display(Markdown(\"\\n\".join([f\"- `{s}`\" for s in related_summaries])))\n",
    "        else:\n",
    "            display(Markdown(\"**No related summary files found.**\"))\n",
    "\n",
    "widgets.interactive(search_related_data, group_name=selected_group)"
   ]
  },
  {
   "cell_type": "markdown",
   "metadata": {},
   "source": [
    "## General research topics"
   ]
  },
  {
   "cell_type": "code",
   "execution_count": null,
   "metadata": {},
   "outputs": [
    {
     "data": {
      "text/markdown": [
       "## Most Common Techniques Across Groups"
      ],
      "text/plain": [
       "<IPython.core.display.Markdown object>"
      ]
     },
     "metadata": {},
     "output_type": "display_data"
    },
    {
     "data": {
      "text/markdown": [
       "### Top 10 Most Common Techniques"
      ],
      "text/plain": [
       "<IPython.core.display.Markdown object>"
      ]
     },
     "metadata": {},
     "output_type": "display_data"
    },
    {
     "data": {
      "text/markdown": [
       "```\n",
       "- Ingress Tool Transfer (T1105) - Used by 82 groups\n",
       "- Malicious File (T1204.002) - Used by 82 groups\n",
       "- Spearphishing Attachment (T1566.001) - Used by 77 groups\n",
       "- PowerShell (T1059.001) - Used by 76 groups\n",
       "- Tool (T1588.002) - Used by 71 groups\n",
       "- Windows Command Shell (T1059.003) - Used by 69 groups\n",
       "- Match Legitimate Name or Location (T1036.005) - Used by 57 groups\n",
       "- Web Protocols (T1071.001) - Used by 53 groups\n",
       "- System Information Discovery (T1082) - Used by 53 groups\n",
       "- Registry Run Keys / Startup Folder (T1547.001) - Used by 52 groups\n",
       "\n",
       "```"
      ],
      "text/plain": [
       "<IPython.core.display.Markdown object>"
      ]
     },
     "metadata": {},
     "output_type": "display_data"
    }
   ],
   "source": [
    "# --- Identify Most Common Techniques ---\n",
    "display(Markdown(\"## Most Common Techniques Across Groups\"))\n",
    "\n",
    "technique_counter = Counter()\n",
    "\n",
    "# Iterate through all groups and collect techniques\n",
    "for group in groups:\n",
    "    techniques = mitre_attack_data.get_techniques_used_by_group(group.id)\n",
    "    for t in techniques:\n",
    "        if t[\"object\"]:\n",
    "            technique = t[\"object\"]\n",
    "            attack_id = mitre_attack_data.get_attack_id(technique.id)\n",
    "            technique_counter[attack_id] += 1  # Count occurrences\n",
    "\n",
    "# Get the top 50 most common techniques\n",
    "most_common_techniques = technique_counter.most_common(50)\n",
    "\n",
    "if most_common_techniques:\n",
    "    display(Markdown(\"### Top 50 Most Common Techniques\"))\n",
    "    technique_list = \"\"\n",
    "    \n",
    "    # Retrieve technique names correctly\n",
    "    all_techniques = mitre_attack_data.get_techniques(remove_revoked_deprecated=True)\n",
    "    attack_id_to_name = {mitre_attack_data.get_attack_id(t.id): t.name for t in all_techniques}\n",
    "\n",
    "    for attack_id, count in most_common_techniques:\n",
    "        technique_name = attack_id_to_name.get(attack_id, \"Unknown Technique\")\n",
    "        technique_list += f\"- {technique_name} ({attack_id}) - Used by {count} groups\\n\"\n",
    "\n",
    "    display(Markdown(f\"```\\n{technique_list}\\n```\"))\n",
    "else:\n",
    "    display(Markdown(\"**No techniques found across groups.**\"))\n"
   ]
  }
 ],
 "metadata": {
  "kernelspec": {
   "display_name": ".venv",
   "language": "python",
   "name": "python3"
  },
  "language_info": {
   "codemirror_mode": {
    "name": "ipython",
    "version": 3
   },
   "file_extension": ".py",
   "mimetype": "text/x-python",
   "name": "python",
   "nbconvert_exporter": "python",
   "pygments_lexer": "ipython3",
   "version": "3.12.3"
  }
 },
 "nbformat": 4,
 "nbformat_minor": 2
}
