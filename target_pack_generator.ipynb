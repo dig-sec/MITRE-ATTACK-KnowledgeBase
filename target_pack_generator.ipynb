{
 "cells": [
  {
   "cell_type": "markdown",
   "metadata": {},
   "source": [
    "# Target pack generator"
   ]
  },
  {
   "cell_type": "code",
   "execution_count": null,
   "metadata": {},
   "outputs": [
    {
     "name": "stdout",
     "output_type": "stream",
     "text": [
      "Retrieved 159 ATT&CK groups.\n"
     ]
    },
    {
     "data": {
      "application/vnd.jupyter.widget-view+json": {
       "model_id": "0a6f248e939b4adf93e59f8a5993cf7d",
       "version_major": 2,
       "version_minor": 0
      },
      "text/plain": [
       "interactive(children=(Dropdown(description='Select Group:', layout=Layout(width='50%'), options=('Indrik Spide…"
      ]
     },
     "execution_count": 3,
     "metadata": {},
     "output_type": "execute_result"
    }
   ],
   "source": [
    "import os\n",
    "import json\n",
    "from mitreattack.stix20 import MitreAttackData\n",
    "import ipywidgets as widgets\n",
    "from IPython.display import display, Markdown, clear_output\n",
    "\n",
    "# --- Load MITRE ATT&CK Data ---\n",
    "display(Markdown(\"# MITRE ATT&CK Group Analysis\"))\n",
    "display(Markdown(\"## Loading ATT&CK Data\"))\n",
    "\n",
    "dataset_path = \"data/enterprise-attack.json\"\n",
    "if not os.path.exists(dataset_path):\n",
    "    display(Markdown(\"**Error: enterprise-attack.json not found. Please ensure the file is in the 'data' directory.**\"))\n",
    "else:\n",
    "    mitre_attack_data = MitreAttackData(dataset_path)\n",
    "    groups = mitre_attack_data.get_groups(remove_revoked_deprecated=True)\n",
    "    display(Markdown(f\"**Retrieved {len(groups)} ATT&CK groups.**\"))\n",
    "\n",
    "    # --- Group Selection ---\n",
    "    display(Markdown(\"## Select a Group\"))\n",
    "    group_names = [group.name for group in groups]\n",
    "    selected_group = widgets.Dropdown(\n",
    "        options=group_names,\n",
    "        description='Select Group:',\n",
    "        layout=widgets.Layout(width='50%')\n",
    "    )\n",
    "    display(selected_group)\n",
    "\n",
    "    output = widgets.Output()\n",
    "    display(output)\n",
    "\n",
    "    def display_group_info(group_name):\n",
    "        \"\"\"Displays information about the selected group.\"\"\"\n",
    "        with output:\n",
    "            clear_output(wait=True)\n",
    "            display(Markdown(\"---\"))\n",
    "            display(Markdown(\"## Group Information\"))\n",
    "            \n",
    "            group = next((g for g in groups if g.name == group_name), None)\n",
    "            if not group:\n",
    "                display(Markdown(\"**Selected group not found.**\"))\n",
    "                return\n",
    "            \n",
    "            display(Markdown(f\"### {group.name}\"))\n",
    "            display(Markdown(group.description))\n",
    "            \n",
    "            techniques_used_by_group = mitre_attack_data.get_techniques_used_by_group(group.id)\n",
    "            display(Markdown(f\"**Techniques Used: {len(techniques_used_by_group)}**\"))\n",
    "            \n",
    "            mitre_techniques_used_by_group = []\n",
    "            technique_list = \"\"\n",
    "            for t in techniques_used_by_group:\n",
    "                if t[\"object\"]:\n",
    "                    technique = t[\"object\"]\n",
    "                    attack_id = mitre_attack_data.get_attack_id(technique.id)\n",
    "                    technique_list += f\"- {technique.name} ({attack_id})\\n\"\n",
    "                    mitre_techniques_used_by_group.append(attack_id)\n",
    "            \n",
    "            display(Markdown(\"### Techniques Used by Group\"))\n",
    "            display(Markdown(f\"```\\n{technique_list}\\n```\"))\n",
    "            \n",
    "            # --- Search for Related Analysis and Summaries ---\n",
    "            display(Markdown(\"## Searching for Related Data\"))\n",
    "            \n",
    "            analysis_folder = \"MITRE_ATT&CK_Analysis\"\n",
    "            summary_folder = \"MITRE_ATT&CK_Summaries\"\n",
    "            \n",
    "            related_analysis = []\n",
    "            related_summaries = []\n",
    "            \n",
    "            for root, _, files in os.walk(analysis_folder):\n",
    "                for file in files:\n",
    "                    if file.endswith(\".json\"):\n",
    "                        file_path = os.path.join(root, file)\n",
    "                        with open(file_path, \"r\", encoding=\"utf-8\") as f:\n",
    "                            data = json.load(f)\n",
    "                            if data.get(\"id\") in mitre_techniques_used_by_group:\n",
    "                                related_analysis.append(file_path)\n",
    "            \n",
    "            for root, _, files in os.walk(summary_folder):\n",
    "                for file in files:\n",
    "                    if file.endswith(\".md\"):\n",
    "                        file_path = os.path.join(root, file)\n",
    "                        for attack_id in mitre_techniques_used_by_group:\n",
    "                            if attack_id in file:\n",
    "                                related_summaries.append(file_path)\n",
    "                                break\n",
    "            \n",
    "            display(Markdown(\"### Related Analysis Files\"))\n",
    "            if related_analysis:\n",
    "                display(Markdown(\"\\n\".join([f\"- `{a}`\" for a in related_analysis])))\n",
    "            else:\n",
    "                display(Markdown(\"**No related analysis files found.**\"))\n",
    "            \n",
    "            display(Markdown(\"### Related Summary Files\"))\n",
    "            if related_summaries:\n",
    "                display(Markdown(\"\\n\".join([f\"- `{s}`\" for s in related_summaries])))\n",
    "            else:\n",
    "                display(Markdown(\"**No related summary files found.**\"))\n",
    "            \n",
    "            display(Markdown(\"---\"))\n",
    "\n",
    "    widgets.interactive(display_group_info, group_name=selected_group)\n"
   ]
  },
  {
   "cell_type": "code",
   "execution_count": null,
   "metadata": {},
   "outputs": [],
   "source": []
  }
 ],
 "metadata": {
  "kernelspec": {
   "display_name": ".venv",
   "language": "python",
   "name": "python3"
  },
  "language_info": {
   "codemirror_mode": {
    "name": "ipython",
    "version": 3
   },
   "file_extension": ".py",
   "mimetype": "text/x-python",
   "name": "python",
   "nbconvert_exporter": "python",
   "pygments_lexer": "ipython3",
   "version": "3.12.3"
  }
 },
 "nbformat": 4,
 "nbformat_minor": 2
}
